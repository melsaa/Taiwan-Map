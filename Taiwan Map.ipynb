{
 "cells": [
  {
   "cell_type": "code",
   "execution_count": 10,
   "metadata": {},
   "outputs": [],
   "source": [
    "import pandas as pd\n",
    "import matplotlib.pyplot as plt"
   ]
  },
  {
   "cell_type": "code",
   "execution_count": 2,
   "metadata": {},
   "outputs": [],
   "source": [
    "# Tutorial:　https://towardsdatascience.com/lets-make-a-map-using-geopandas-pandas-and-matplotlib-to-make-a-chloropleth-map-dddc31c1983d\n",
    "import geopandas as gpd"
   ]
  },
  {
   "cell_type": "code",
   "execution_count": 3,
   "metadata": {},
   "outputs": [],
   "source": [
    "from bokeh.io import output_notebook, show, output_file\n",
    "from bokeh.plotting import figure\n",
    "from bokeh.models import GeoJSONDataSource, LinearColorMapper, ColorBar\n",
    "from bokeh.palettes import brewer\n",
    "import json"
   ]
  },
  {
   "cell_type": "code",
   "execution_count": 4,
   "metadata": {},
   "outputs": [],
   "source": [
    "# Source = https://data.gov.tw/dataset/7442 直轄市、縣市界線(TWD97經緯度)\n",
    "tw = \"mapdata/COUNTY_MOI_1080726.shp\"\n",
    "map_tw = gpd.read_file(tw, encoding=\"utf-8\")"
   ]
  },
  {
   "cell_type": "code",
   "execution_count": 5,
   "metadata": {},
   "outputs": [
    {
     "data": {
      "text/html": [
       "<div>\n",
       "<style scoped>\n",
       "    .dataframe tbody tr th:only-of-type {\n",
       "        vertical-align: middle;\n",
       "    }\n",
       "\n",
       "    .dataframe tbody tr th {\n",
       "        vertical-align: top;\n",
       "    }\n",
       "\n",
       "    .dataframe thead th {\n",
       "        text-align: right;\n",
       "    }\n",
       "</style>\n",
       "<table border=\"1\" class=\"dataframe\">\n",
       "  <thead>\n",
       "    <tr style=\"text-align: right;\">\n",
       "      <th></th>\n",
       "      <th>COUNTYID</th>\n",
       "      <th>COUNTYCODE</th>\n",
       "      <th>COUNTYNAME</th>\n",
       "      <th>COUNTYENG</th>\n",
       "      <th>geometry</th>\n",
       "    </tr>\n",
       "  </thead>\n",
       "  <tbody>\n",
       "    <tr>\n",
       "      <td>0</td>\n",
       "      <td>Z</td>\n",
       "      <td>09007</td>\n",
       "      <td>連江縣</td>\n",
       "      <td>Lienchiang County</td>\n",
       "      <td>(POLYGON ((119.9644519140001 25.94552317400007...</td>\n",
       "    </tr>\n",
       "    <tr>\n",
       "      <td>1</td>\n",
       "      <td>G</td>\n",
       "      <td>10002</td>\n",
       "      <td>宜蘭縣</td>\n",
       "      <td>Yilan County</td>\n",
       "      <td>(POLYGON ((121.9597084550001 24.84493697000005...</td>\n",
       "    </tr>\n",
       "    <tr>\n",
       "      <td>2</td>\n",
       "      <td>N</td>\n",
       "      <td>10007</td>\n",
       "      <td>彰化縣</td>\n",
       "      <td>Changhua County</td>\n",
       "      <td>POLYGON ((120.4565526600001 24.20718620500008,...</td>\n",
       "    </tr>\n",
       "    <tr>\n",
       "      <td>3</td>\n",
       "      <td>M</td>\n",
       "      <td>10008</td>\n",
       "      <td>南投縣</td>\n",
       "      <td>Nantou County</td>\n",
       "      <td>POLYGON ((121.2708644380001 24.23660985400005,...</td>\n",
       "    </tr>\n",
       "    <tr>\n",
       "      <td>4</td>\n",
       "      <td>P</td>\n",
       "      <td>10009</td>\n",
       "      <td>雲林縣</td>\n",
       "      <td>Yunlin County</td>\n",
       "      <td>(POLYGON ((120.081077282 23.52412216400006, 12...</td>\n",
       "    </tr>\n",
       "    <tr>\n",
       "      <td>5</td>\n",
       "      <td>T</td>\n",
       "      <td>10013</td>\n",
       "      <td>屏東縣</td>\n",
       "      <td>Pingtung County</td>\n",
       "      <td>(POLYGON ((120.379645899 22.35598933400007, 12...</td>\n",
       "    </tr>\n",
       "    <tr>\n",
       "      <td>6</td>\n",
       "      <td>X</td>\n",
       "      <td>10016</td>\n",
       "      <td>澎湖縣</td>\n",
       "      <td>Penghu County</td>\n",
       "      <td>(POLYGON ((119.4402533230001 23.22136844000005...</td>\n",
       "    </tr>\n",
       "    <tr>\n",
       "      <td>7</td>\n",
       "      <td>C</td>\n",
       "      <td>10017</td>\n",
       "      <td>基隆市</td>\n",
       "      <td>Keelung City</td>\n",
       "      <td>(POLYGON ((121.710150286 25.17604204900005, 12...</td>\n",
       "    </tr>\n",
       "    <tr>\n",
       "      <td>8</td>\n",
       "      <td>O</td>\n",
       "      <td>10018</td>\n",
       "      <td>新竹市</td>\n",
       "      <td>Hsinchu City</td>\n",
       "      <td>POLYGON ((120.9301072960001 24.85301711800008,...</td>\n",
       "    </tr>\n",
       "    <tr>\n",
       "      <td>9</td>\n",
       "      <td>A</td>\n",
       "      <td>63000</td>\n",
       "      <td>臺北市</td>\n",
       "      <td>Taipei City</td>\n",
       "      <td>POLYGON ((121.5709805050001 25.19716811600006,...</td>\n",
       "    </tr>\n",
       "  </tbody>\n",
       "</table>\n",
       "</div>"
      ],
      "text/plain": [
       "  COUNTYID COUNTYCODE COUNTYNAME          COUNTYENG  \\\n",
       "0        Z      09007        連江縣  Lienchiang County   \n",
       "1        G      10002        宜蘭縣       Yilan County   \n",
       "2        N      10007        彰化縣    Changhua County   \n",
       "3        M      10008        南投縣      Nantou County   \n",
       "4        P      10009        雲林縣      Yunlin County   \n",
       "5        T      10013        屏東縣    Pingtung County   \n",
       "6        X      10016        澎湖縣      Penghu County   \n",
       "7        C      10017        基隆市       Keelung City   \n",
       "8        O      10018        新竹市       Hsinchu City   \n",
       "9        A      63000        臺北市        Taipei City   \n",
       "\n",
       "                                            geometry  \n",
       "0  (POLYGON ((119.9644519140001 25.94552317400007...  \n",
       "1  (POLYGON ((121.9597084550001 24.84493697000005...  \n",
       "2  POLYGON ((120.4565526600001 24.20718620500008,...  \n",
       "3  POLYGON ((121.2708644380001 24.23660985400005,...  \n",
       "4  (POLYGON ((120.081077282 23.52412216400006, 12...  \n",
       "5  (POLYGON ((120.379645899 22.35598933400007, 12...  \n",
       "6  (POLYGON ((119.4402533230001 23.22136844000005...  \n",
       "7  (POLYGON ((121.710150286 25.17604204900005, 12...  \n",
       "8  POLYGON ((120.9301072960001 24.85301711800008,...  \n",
       "9  POLYGON ((121.5709805050001 25.19716811600006,...  "
      ]
     },
     "execution_count": 5,
     "metadata": {},
     "output_type": "execute_result"
    }
   ],
   "source": [
    "map_tw.head(10)"
   ]
  },
  {
   "cell_type": "code",
   "execution_count": 8,
   "metadata": {},
   "outputs": [
    {
     "data": {
      "image/png": "[encoded data removed]",
      "text/plain": [
       "<Figure size 1008x432 with 1 Axes>"
      ]
     },
     "metadata": {
      "needs_background": "light"
     },
     "output_type": "display_data"
    }
   ],
   "source": [
    "fig, ax = plt.subplots(figsize=(14,6))\n",
    "map_tw.plot(ax=ax)\n",
    "ax.set(title=\"Taiwan\")\n",
    "ax.set_ylim(21,27)\n",
    "ax.set_xlim(118,123)\n",
    "plt.show()"
   ]
  },
  {
   "cell_type": "code",
   "execution_count": 11,
   "metadata": {},
   "outputs": [],
   "source": [
    "# Source: https://gis.ris.gov.tw/dashboard.html?key=B01\n",
    "demo = pd.read_csv(\"mapdata/population.csv\")\n",
    "demo = demo.rename(columns={\"區域別\": \"COUNTYNAME\", \"總計\":\"population\"})\n",
    "demo['population'] = demo['population'].str.replace(',', '').astype(int)"
   ]
  },
  {
   "cell_type": "code",
   "execution_count": 12,
   "metadata": {},
   "outputs": [],
   "source": [
    "demo = demo.replace(['臺北縣', '桃園縣'], ['新北市', '桃園市'])\n",
    "demo.loc[demo.COUNTYNAME == '臺中市','population'] += demo.loc[demo.COUNTYNAME == '臺中縣','population'].values[0]\n",
    "demo.loc[demo.COUNTYNAME == '臺南市','population'] += demo.loc[demo.COUNTYNAME == '臺南縣','population'].values[0]\n",
    "demo.loc[demo.COUNTYNAME == '高雄市','population'] += demo.loc[demo.COUNTYNAME == '高雄縣','population'].values[0]"
   ]
  },
  {
   "cell_type": "code",
   "execution_count": 18,
   "metadata": {},
   "outputs": [],
   "source": [
    "demo = demo[(demo.COUNTYNAME != '臺中縣') & (demo.COUNTYNAME != '臺南縣') & (demo.COUNTYNAME != '高雄縣') & (demo.COUNTYNAME != '總計')]"
   ]
  },
  {
   "cell_type": "code",
   "execution_count": 13,
   "metadata": {},
   "outputs": [
    {
     "data": {
      "text/html": [
       "<div>\n",
       "<style scoped>\n",
       "    .dataframe tbody tr th:only-of-type {\n",
       "        vertical-align: middle;\n",
       "    }\n",
       "\n",
       "    .dataframe tbody tr th {\n",
       "        vertical-align: top;\n",
       "    }\n",
       "\n",
       "    .dataframe thead th {\n",
       "        text-align: right;\n",
       "    }\n",
       "</style>\n",
       "<table border=\"1\" class=\"dataframe\">\n",
       "  <thead>\n",
       "    <tr style=\"text-align: right;\">\n",
       "      <th></th>\n",
       "      <th>COUNTYNAME</th>\n",
       "      <th>population</th>\n",
       "    </tr>\n",
       "  </thead>\n",
       "  <tbody>\n",
       "    <tr>\n",
       "      <td>0</td>\n",
       "      <td>臺北市</td>\n",
       "      <td>2632010</td>\n",
       "    </tr>\n",
       "    <tr>\n",
       "      <td>1</td>\n",
       "      <td>高雄市</td>\n",
       "      <td>2731082</td>\n",
       "    </tr>\n",
       "    <tr>\n",
       "      <td>2</td>\n",
       "      <td>新北市</td>\n",
       "      <td>3614389</td>\n",
       "    </tr>\n",
       "    <tr>\n",
       "      <td>3</td>\n",
       "      <td>宜蘭縣</td>\n",
       "      <td>466230</td>\n",
       "    </tr>\n",
       "    <tr>\n",
       "      <td>4</td>\n",
       "      <td>桃園市</td>\n",
       "      <td>1766106</td>\n",
       "    </tr>\n",
       "  </tbody>\n",
       "</table>\n",
       "</div>"
      ],
      "text/plain": [
       "  COUNTYNAME  population\n",
       "0        臺北市     2632010\n",
       "1        高雄市     2731082\n",
       "2        新北市     3614389\n",
       "3        宜蘭縣      466230\n",
       "4        桃園市     1766106"
      ]
     },
     "execution_count": 13,
     "metadata": {},
     "output_type": "execute_result"
    }
   ],
   "source": [
    "demo.head()"
   ]
  },
  {
   "cell_type": "code",
   "execution_count": 19,
   "metadata": {},
   "outputs": [],
   "source": [
    "merged = pd.merge(map_tw, demo, on='COUNTYNAME', how='outer')"
   ]
  },
  {
   "cell_type": "code",
   "execution_count": 20,
   "metadata": {},
   "outputs": [],
   "source": [
    "pop_sum = merged.population.sum()\n",
    "merged['percentage'] = merged['population'] / pop_sum * 100"
   ]
  },
  {
   "cell_type": "code",
   "execution_count": 21,
   "metadata": {},
   "outputs": [
    {
     "data": {
      "text/html": [
       "<div>\n",
       "<style scoped>\n",
       "    .dataframe tbody tr th:only-of-type {\n",
       "        vertical-align: middle;\n",
       "    }\n",
       "\n",
       "    .dataframe tbody tr th {\n",
       "        vertical-align: top;\n",
       "    }\n",
       "\n",
       "    .dataframe thead th {\n",
       "        text-align: right;\n",
       "    }\n",
       "</style>\n",
       "<table border=\"1\" class=\"dataframe\">\n",
       "  <thead>\n",
       "    <tr style=\"text-align: right;\">\n",
       "      <th></th>\n",
       "      <th>COUNTYID</th>\n",
       "      <th>COUNTYCODE</th>\n",
       "      <th>COUNTYNAME</th>\n",
       "      <th>COUNTYENG</th>\n",
       "      <th>geometry</th>\n",
       "      <th>population</th>\n",
       "      <th>percentage</th>\n",
       "    </tr>\n",
       "  </thead>\n",
       "  <tbody>\n",
       "    <tr>\n",
       "      <td>0</td>\n",
       "      <td>Z</td>\n",
       "      <td>09007</td>\n",
       "      <td>連江縣</td>\n",
       "      <td>Lienchiang County</td>\n",
       "      <td>(POLYGON ((119.9644519140001 25.94552317400007...</td>\n",
       "      <td>9569</td>\n",
       "      <td>0.042677</td>\n",
       "    </tr>\n",
       "    <tr>\n",
       "      <td>1</td>\n",
       "      <td>G</td>\n",
       "      <td>10002</td>\n",
       "      <td>宜蘭縣</td>\n",
       "      <td>Yilan County</td>\n",
       "      <td>(POLYGON ((121.9597084550001 24.84493697000005...</td>\n",
       "      <td>466230</td>\n",
       "      <td>2.079361</td>\n",
       "    </tr>\n",
       "    <tr>\n",
       "      <td>2</td>\n",
       "      <td>N</td>\n",
       "      <td>10007</td>\n",
       "      <td>彰化縣</td>\n",
       "      <td>Changhua County</td>\n",
       "      <td>POLYGON ((120.4565526600001 24.20718620500008,...</td>\n",
       "      <td>1315034</td>\n",
       "      <td>5.864981</td>\n",
       "    </tr>\n",
       "    <tr>\n",
       "      <td>3</td>\n",
       "      <td>M</td>\n",
       "      <td>10008</td>\n",
       "      <td>南投縣</td>\n",
       "      <td>Nantou County</td>\n",
       "      <td>POLYGON ((121.2708644380001 24.23660985400005,...</td>\n",
       "      <td>542181</td>\n",
       "      <td>2.418098</td>\n",
       "    </tr>\n",
       "    <tr>\n",
       "      <td>4</td>\n",
       "      <td>P</td>\n",
       "      <td>10009</td>\n",
       "      <td>雲林縣</td>\n",
       "      <td>Yunlin County</td>\n",
       "      <td>(POLYGON ((120.081077282 23.52412216400006, 12...</td>\n",
       "      <td>744830</td>\n",
       "      <td>3.321902</td>\n",
       "    </tr>\n",
       "  </tbody>\n",
       "</table>\n",
       "</div>"
      ],
      "text/plain": [
       "  COUNTYID COUNTYCODE COUNTYNAME          COUNTYENG  \\\n",
       "0        Z      09007        連江縣  Lienchiang County   \n",
       "1        G      10002        宜蘭縣       Yilan County   \n",
       "2        N      10007        彰化縣    Changhua County   \n",
       "3        M      10008        南投縣      Nantou County   \n",
       "4        P      10009        雲林縣      Yunlin County   \n",
       "\n",
       "                                            geometry  population  percentage  \n",
       "0  (POLYGON ((119.9644519140001 25.94552317400007...        9569    0.042677  \n",
       "1  (POLYGON ((121.9597084550001 24.84493697000005...      466230    2.079361  \n",
       "2  POLYGON ((120.4565526600001 24.20718620500008,...     1315034    5.864981  \n",
       "3  POLYGON ((121.2708644380001 24.23660985400005,...      542181    2.418098  \n",
       "4  (POLYGON ((120.081077282 23.52412216400006, 12...      744830    3.321902  "
      ]
     },
     "execution_count": 21,
     "metadata": {},
     "output_type": "execute_result"
    }
   ],
   "source": [
    "merged.head()"
   ]
  },
  {
   "cell_type": "code",
   "execution_count": 22,
   "metadata": {},
   "outputs": [
    {
     "data": {
      "image/png": "[encoded data removed]",
      "text/plain": [
       "<Figure size 1008x432 with 2 Axes>"
      ]
     },
     "metadata": {
      "needs_background": "light"
     },
     "output_type": "display_data"
    }
   ],
   "source": [
    "fig, ax = plt.subplots(figsize=(14,6))\n",
    "merged.plot(ax=ax, column = 'percentage', legend=True)\n",
    "ax.set(title=\"Taiwan\")\n",
    "ax.set_ylim(21,27)\n",
    "ax.set_xlim(118,123)\n",
    "plt.show()"
   ]
  },
  {
   "cell_type": "code",
   "execution_count": 24,
   "metadata": {},
   "outputs": [],
   "source": [
    "#Read data to json.\n",
    "merged_json = json.loads(merged.to_json())\n",
    "#Convert to String like object.\n",
    "json_data = json.dumps(merged_json)"
   ]
  },
  {
   "cell_type": "code",
   "execution_count": 25,
   "metadata": {},
   "outputs": [],
   "source": [
    "#Input GeoJSON source that contains features for plotting.\n",
    "geosource = GeoJSONDataSource(geojson = json_data)"
   ]
  },
  {
   "cell_type": "code",
   "execution_count": 26,
   "metadata": {},
   "outputs": [],
   "source": [
    "# Create figure object\n",
    "p = figure(title = 'Taiwan Demographic in 2002', plot_height = 600 , plot_width = 950, toolbar_location = None)"
   ]
  },
  {
   "cell_type": "code",
   "execution_count": 27,
   "metadata": {},
   "outputs": [
    {
     "data": {
      "text/html": [
       "<div style=\"display: table;\"><div style=\"display: table-row;\"><div style=\"display: table-cell;\"><b title=\"bokeh.models.renderers.GlyphRenderer\">GlyphRenderer</b>(</div><div style=\"display: table-cell;\">id&nbsp;=&nbsp;'1039', <span id=\"1042\" style=\"cursor: pointer;\">&hellip;)</span></div></div><div class=\"1041\" style=\"display: none;\"><div style=\"display: table-cell;\"></div><div style=\"display: table-cell;\">data_source&nbsp;=&nbsp;GeoJSONDataSource(id='1001', ...),</div></div><div class=\"1041\" style=\"display: none;\"><div style=\"display: table-cell;\"></div><div style=\"display: table-cell;\">glyph&nbsp;=&nbsp;Patches(id='1037', ...),</div></div><div class=\"1041\" style=\"display: none;\"><div style=\"display: table-cell;\"></div><div style=\"display: table-cell;\">hover_glyph&nbsp;=&nbsp;None,</div></div><div class=\"1041\" style=\"display: none;\"><div style=\"display: table-cell;\"></div><div style=\"display: table-cell;\">js_event_callbacks&nbsp;=&nbsp;{},</div></div><div class=\"1041\" style=\"display: none;\"><div style=\"display: table-cell;\"></div><div style=\"display: table-cell;\">js_property_callbacks&nbsp;=&nbsp;{},</div></div><div class=\"1041\" style=\"display: none;\"><div style=\"display: table-cell;\"></div><div style=\"display: table-cell;\">level&nbsp;=&nbsp;'glyph',</div></div><div class=\"1041\" style=\"display: none;\"><div style=\"display: table-cell;\"></div><div style=\"display: table-cell;\">muted&nbsp;=&nbsp;False,</div></div><div class=\"1041\" style=\"display: none;\"><div style=\"display: table-cell;\"></div><div style=\"display: table-cell;\">muted_glyph&nbsp;=&nbsp;None,</div></div><div class=\"1041\" style=\"display: none;\"><div style=\"display: table-cell;\"></div><div style=\"display: table-cell;\">name&nbsp;=&nbsp;None,</div></div><div class=\"1041\" style=\"display: none;\"><div style=\"display: table-cell;\"></div><div style=\"display: table-cell;\">nonselection_glyph&nbsp;=&nbsp;Patches(id='1038', ...),</div></div><div class=\"1041\" style=\"display: none;\"><div style=\"display: table-cell;\"></div><div style=\"display: table-cell;\">selection_glyph&nbsp;=&nbsp;None,</div></div><div class=\"1041\" style=\"display: none;\"><div style=\"display: table-cell;\"></div><div style=\"display: table-cell;\">subscribed_events&nbsp;=&nbsp;[],</div></div><div class=\"1041\" style=\"display: none;\"><div style=\"display: table-cell;\"></div><div style=\"display: table-cell;\">tags&nbsp;=&nbsp;[],</div></div><div class=\"1041\" style=\"display: none;\"><div style=\"display: table-cell;\"></div><div style=\"display: table-cell;\">view&nbsp;=&nbsp;CDSView(id='1040', ...),</div></div><div class=\"1041\" style=\"display: none;\"><div style=\"display: table-cell;\"></div><div style=\"display: table-cell;\">visible&nbsp;=&nbsp;True,</div></div><div class=\"1041\" style=\"display: none;\"><div style=\"display: table-cell;\"></div><div style=\"display: table-cell;\">x_range_name&nbsp;=&nbsp;'default',</div></div><div class=\"1041\" style=\"display: none;\"><div style=\"display: table-cell;\"></div><div style=\"display: table-cell;\">y_range_name&nbsp;=&nbsp;'default')</div></div></div>\n",
       "<script>\n",
       "(function() {\n",
       "  var expanded = false;\n",
       "  var ellipsis = document.getElementById(\"1042\");\n",
       "  ellipsis.addEventListener(\"click\", function() {\n",
       "    var rows = document.getElementsByClassName(\"1041\");\n",
       "    for (var i = 0; i < rows.length; i++) {\n",
       "      var el = rows[i];\n",
       "      el.style.display = expanded ? \"none\" : \"table-row\";\n",
       "    }\n",
       "    ellipsis.innerHTML = expanded ? \"&hellip;)\" : \"&lsaquo;&lsaquo;&lsaquo;\";\n",
       "    expanded = !expanded;\n",
       "  });\n",
       "})();\n",
       "</script>\n"
      ],
      "text/plain": [
       "GlyphRenderer(id='1039', ...)"
      ]
     },
     "execution_count": 27,
     "metadata": {},
     "output_type": "execute_result"
    }
   ],
   "source": [
    "# Add patches renderer\n",
    "p.patches('xs','ys', source = geosource, line_color = 'black')"
   ]
  },
  {
   "cell_type": "code",
   "execution_count": 28,
   "metadata": {},
   "outputs": [],
   "source": [
    "output_file('taiwan.html', title = 'Taiwan Demographic 2002') # render to static html"
   ]
  },
  {
   "cell_type": "code",
   "execution_count": 29,
   "metadata": {},
   "outputs": [],
   "source": [
    "show(p)"
   ]
  },
  {
   "cell_type": "code",
   "execution_count": null,
   "metadata": {},
   "outputs": [],
   "source": []
  }
 ],
 "metadata": {
  "kernelspec": {
   "display_name": "Python 3",
   "language": "python",
   "name": "python3"
  },
  "language_info": {
   "codemirror_mode": {
    "name": "ipython",
    "version": 3
   },
   "file_extension": ".py",
   "mimetype": "text/x-python",
   "name": "python",
   "nbconvert_exporter": "python",
   "pygments_lexer": "ipython3",
   "version": "3.7.3"
  }
 },
 "nbformat": 4,
 "nbformat_minor": 2
}
